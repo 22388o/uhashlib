{
 "cells": [
  {
   "cell_type": "markdown",
   "metadata": {},
   "source": [
    "# Display and GUI\n",
    "\n",
    "We will use [littlevgl](https://littlevgl.com/) - a very powerful graphics library for embedded devices. It's worth checking out their website and documentation.\n",
    "\n",
    "Here we will write a very simple GUI that will turn on and off our LEDs. Just 4 buttons and that's it.\n",
    "\n",
    "First we need to initialize the display. It will automatically turn it on, initialize littlevgl and draw the first empty screen.\n",
    "\n",
    "`display` module has two important functions: `init()` and `update(dt)`.\n",
    "We should call `init()` function once in the very beginning of the program.\n",
    "\n",
    "`update(dt)` function should be called whenever we need to draw something new or to handle events from the display.\n",
    "A parameter we pass to `update` is the time in milliseconds from the last update. Calling `update(30)` will make the library think that 30 ms have passed and it will update the screen."
   ]
  },
  {
   "cell_type": "code",
   "execution_count": 1,
   "metadata": {},
   "outputs": [
    {
     "name": "stdout",
     "output_type": "stream",
     "text": [
      "\u001b[34mConnecting to --port=/dev/tty.usbmodem3660384B30362 --baud=115200 \u001b[0m\n",
      "\u001b[34mReady.\n",
      "\u001b[0m"
     ]
    }
   ],
   "source": [
    "# %serialconnect\n",
    "%serialconnect --port=/dev/tty.usbmodem3660384B30362 --baud=115200"
   ]
  },
  {
   "cell_type": "code",
   "execution_count": 2,
   "metadata": {},
   "outputs": [],
   "source": [
    "import display\n",
    "import lvgl as lv\n",
    "\n",
    "display.init()"
   ]
  },
  {
   "cell_type": "markdown",
   "metadata": {},
   "source": [
    "Now we have a screen we can draw on.\n",
    "\n",
    "Let's start with a single button to toggle LED1."
   ]
  },
  {
   "cell_type": "code",
   "execution_count": 3,
   "metadata": {},
   "outputs": [],
   "source": [
    "# get current active screen\n",
    "scr = lv.scr_act()\n",
    "# clean the screen just in case\n",
    "scr.clean()\n",
    "# draw a button on this screen\n",
    "btn = lv.btn(scr)\n",
    "# add a text label to the button\n",
    "lbl = lv.label(btn)\n",
    "# set text to it\n",
    "lbl.set_text(\"Toggle LED\")\n",
    "# set text mode that will make the width of the label\n",
    "# such that text fits in it\n",
    "lbl.set_long_mode(lv.label.LONG.EXPAND)\n",
    "# set the fit mode of the button to expand width\n",
    "# to the label width\n",
    "btn.set_fit2(lv.FIT.TIGHT, lv.FIT.NONE)\n",
    "# align the button to the center of the screen\n",
    "btn.align(None, lv.ALIGN.CENTER, 0, 0)\n",
    "# update the display to draw the button\n",
    "display.update(30)"
   ]
  },
  {
   "cell_type": "code",
   "execution_count": 4,
   "metadata": {},
   "outputs": [],
   "source": [
    "# now we can update the label text\n",
    "# and see how it changes on the screen\n",
    "lbl.set_text(\"LED1\")\n",
    "display.update(30)"
   ]
  },
  {
   "cell_type": "markdown",
   "metadata": {},
   "source": [
    "Great! We can draw buttons on the screen!\n",
    "\n",
    "But the screen is not responsive, we need to call `display.update(dt)` every time, and it is annoying, especially when working from jupyter.\n",
    "\n",
    "Let's use a trick we discussed in the previous section and schedule display updates."
   ]
  },
  {
   "cell_type": "code",
   "execution_count": 5,
   "metadata": {},
   "outputs": [],
   "source": [
    "import micropython\n",
    "def schedule(t):\n",
    "    \"\"\"Try to schedule an LED update\"\"\"\n",
    "    try:\n",
    "        micropython.schedule(display.update, 30)\n",
    "    except:\n",
    "        pass\n",
    "\n",
    "timer = pyb.Timer(4) # timer 4\n",
    "timer.init(freq=30)  # 30Hz update rate\n",
    "timer.callback(schedule)"
   ]
  },
  {
   "cell_type": "markdown",
   "metadata": {},
   "source": [
    "Now if you try to click on the button you will see that it is changing! Great!\n",
    "\n",
    "Let's write a callback that will toggle the LED. Otherwise why did we make this button?\n",
    "\n",
    "Callbacks will receive two arguments: an object that triggered an event and event type. We will toggle the LED only when `lv.EVENT.RELEASED` is detected."
   ]
  },
  {
   "cell_type": "code",
   "execution_count": 6,
   "metadata": {},
   "outputs": [],
   "source": [
    "import pyb\n",
    "led = pyb.LED(1)\n",
    "\n",
    "def toggle_led(obj, event):\n",
    "    if event == lv.EVENT.RELEASED:\n",
    "        led.toggle()\n",
    "\n",
    "btn.set_event_cb(toggle_led)"
   ]
  },
  {
   "cell_type": "markdown",
   "metadata": {},
   "source": [
    "Wonderful! We control an LED now!\n",
    "\n",
    "Let's move on and create 4 buttons one per LED. But as Python is object-oriented we can write a class that includes all the functionality we need from a button.\n",
    "We will also set every button in a toggle mode"
   ]
  },
  {
   "cell_type": "code",
   "execution_count": 7,
   "metadata": {},
   "outputs": [],
   "source": [
    "class LedButton(lv.btn):\n",
    "    \"\"\"A toggle button that controls a LED\"\"\"\n",
    "    def __init__(self, led, text, *args, **kwargs):\n",
    "        \"\"\"Pass pyb.LED() and button text as first two parameters,\n",
    "           then everything else required by normal button\n",
    "           - a parent and (optionally) an object to copy from.\n",
    "        \"\"\"\n",
    "        super().__init__(*args, **kwargs)\n",
    "        # add label as a child\n",
    "        self.lbl = lv.label(self)\n",
    "        # store text as we will change the text on toggle\n",
    "        self.text = text\n",
    "        # store the LED we control\n",
    "        self.led = led\n",
    "        # LED is off by default\n",
    "        self.lbl.set_text(\"%s: OFF\" % text)\n",
    "        self.led.off()\n",
    "        # set callback\n",
    "        self.set_event_cb(self.toggle)\n",
    "        # make sure the label will fit\n",
    "        self.lbl.set_long_mode(lv.label.LONG.EXPAND)\n",
    "        self.set_fit2(lv.FIT.TIGHT, lv.FIT.NONE)\n",
    "        # set toggle mode\n",
    "        self.set_toggle(True)\n",
    "\n",
    "    def toggle(self, obj, event):\n",
    "        \"\"\"Callback on every event\"\"\"\n",
    "        if event == lv.EVENT.VALUE_CHANGED:\n",
    "            # check the state and toggle the LED & button text\n",
    "            if self.get_state():\n",
    "                self.lbl.set_text(\"%s: ON\" % self.text)\n",
    "                self.led.on()\n",
    "            else:\n",
    "                self.lbl.set_text(\"%s: OFF\" % self.text)\n",
    "                self.led.off()"
   ]
  },
  {
   "cell_type": "code",
   "execution_count": 8,
   "metadata": {},
   "outputs": [],
   "source": [
    "# clean the screen\n",
    "scr.clean()\n",
    "# create buttons for all 4 LEDs\n",
    "for i in range(1,5):\n",
    "    btn = LedButton(pyb.LED(i), \"LED%d\" % i, scr)\n",
    "    # align vertically\n",
    "    btn.align(None, lv.ALIGN.CENTER, 0, -250+100*i)"
   ]
  }
 ],
 "metadata": {
  "kernelspec": {
   "display_name": "MicroPython - USB",
   "language": "micropython",
   "name": "micropython"
  },
  "language_info": {
   "codemirror_mode": "python",
   "file_extension": ".py",
   "mimetype": "text/python",
   "name": "micropython"
  }
 },
 "nbformat": 4,
 "nbformat_minor": 2
}
